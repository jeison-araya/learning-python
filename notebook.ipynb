{
 "metadata": {
  "language_info": {
   "codemirror_mode": {
    "name": "ipython",
    "version": 3
   },
   "file_extension": ".py",
   "mimetype": "text/x-python",
   "name": "python",
   "nbconvert_exporter": "python",
   "pygments_lexer": "ipython3",
   "version": 3
  },
  "orig_nbformat": 2
 },
 "nbformat": 4,
 "nbformat_minor": 2,
 "cells": [
  {
   "source": [
    "<a href=\"https://www.python.org\">\n",
    "    <img src=\"https://icon-icons.com/icons2/2107/PNG/128/file_type_python_icon_130221.png\" alt=\"Python logo\" title=\"Python\" align=\"right\" height=\"72\"/>\n",
    "</a>\n",
    "\n",
    "## Repositorio oficial de Taller introductorio a Python\n",
    "\n",
    "\n",
    "**📌 Tabla de contenidos:**\n",
    "* ¿Qué es Python?\n",
    "    * Usos y trayectoria.\n",
    "    * [PEP 8](https://www.python.org/dev/peps/pep-0008/ \"Guía oficial PEP 8.\").\n",
    "    * Configuración de entorno de trabajo.\n",
    "* Variables y tipos de datos.\n",
    "    * Enteros.\n",
    "    * Flotantes.\n",
    "    * Strings.\n",
    "    * Booleanos.\n",
    "    * Listas, tuplas y diccionarios.\n",
    "* Funciones.\n",
    "    * Funciones simples.\n",
    "    * Funciones con retorno.\n",
    "    * Funciones con retorno múltiple.\n",
    "    * Funciones recursivas.\n",
    "* Estructuras de selección.\n",
    "    * If.\n",
    "    * Switch.\n",
    "* Bucles.\n",
    "    * While.\n",
    "    * For.\n",
    "* POO.\n",
    "    * Clases y objectos.\n",
    "* GUI.\n",
    "    * Aplicación de escritorio utilizando [Tkinter](https://docs.python.org/3/library/tkinter.html \"Tkinter: Documentación Oficial.\").\n",
    "\n",
    "    **⚙️ Instalación:**\n",
    "* Instalar Python 3.7 o superior.\n",
    "    * Descargar para [Windows](https://www.python.org/downloads/ \"Descargar Python\").\n",
    "        * Nota: Es importante  que durante la instalación seleccionar la opción \"Add Python 3.x to PATH\". Esto permite que el sistema pueda ejecutar comandos de Python desde la terminal CMD, los cuales son necesarios para la instalación del entorno virutal.\n",
    "    * Descargar para [MacOs y Linux](https://www.python.org/downloads/ \"Descargar Python\").\n",
    "* Instalar editor de texto [Visual Studio Code](https://code.visualstudio.com/Download \"Descargar Visual Studio Code\").\n",
    "    * Agregar la [extensión de Python](https://marketplace.visualstudio.com/items?itemName=ms-python.python \"VS Code Marketplace > Python\").\n",
    "* Descargar el contenido del repositorio [taller-introductorio-python-2021](https://github.com/jeison-araya/taller-introductorio-python-2021/archive/main.zip \"taller-introductorio-python-2021\").\n",
    "* <a href=\"CONFIGURE_VENV_INSTRUCTIONS.md\" target=\"_blank\">Crear y configurar entorno virtual</a> de python.\n",
    "\n",
    "**👨‍💼 Colaboradores**\n",
    "* [Jeison Araya Mena](https://github.com/jeison-araya \"Github profile\")"
   ],
   "cell_type": "markdown",
   "metadata": {}
  },
  {
   "source": [
    "💻 Ejemplos con código:"
   ],
   "cell_type": "markdown",
   "metadata": {}
  },
  {
   "source": [
    "* Variables y tipos de datos.\n",
    "    * Enteros.\n",
    "    * Flotantes.\n",
    "    * Strings.\n",
    "    * Booleanos.\n",
    "    * Listas, tuplas y diccionarios."
   ],
   "cell_type": "markdown",
   "metadata": {}
  },
  {
   "source": [],
   "cell_type": "code",
   "metadata": {},
   "execution_count": null,
   "outputs": []
  }
 ]
}