{
 "metadata": {
  "language_info": {
   "codemirror_mode": {
    "name": "ipython",
    "version": 3
   },
   "file_extension": ".py",
   "mimetype": "text/x-python",
   "name": "python",
   "nbconvert_exporter": "python",
   "pygments_lexer": "ipython3",
   "version": "3.9.1"
  },
  "orig_nbformat": 2,
  "kernelspec": {
   "name": "python3",
   "display_name": "Python 3.9.1 64-bit ('venv': venv)",
   "metadata": {
    "interpreter": {
     "hash": "4cfee91680674663a08103dade5152f902f030f7dcf503d9970365ffad6f234b"
    }
   }
  }
 },
 "nbformat": 4,
 "nbformat_minor": 2,
 "cells": [
  {
   "source": [
    "<a href=\"https://www.python.org\">\n",
    "    <img src=\"https://icon-icons.com/icons2/2107/PNG/128/file_type_python_icon_130221.png\" alt=\"Python logo\" title=\"Python\" align=\"right\" height=\"72\"/>\n",
    "</a>\n",
    "\n",
    "## Cuaderno del Taller introductorio a Python\n",
    "\n",
    "---\n",
    "\n",
    "**📅 Agenda de trabajo:**\n",
    "\n",
    "* Día 1:\n",
    "    * ¿Qué es Python?\n",
    "    * Variables y tipos de datos.\n",
    "* Día 2:\n",
    "    * Funciones.\n",
    "    * Estructuras de selección.\n",
    "    * Bucles.\n",
    "* Día 3:\n",
    "    * POO.\n",
    "    * GUI.\n",
    "\n",
    "<br>\n",
    "\n",
    "**👨‍💼 Colaboradores**\n",
    "* [Gabriela Guevara Mora]() | <small>Docente - UCR</small>\n",
    "* [Jeison Araya Mena](https://github.com/jeison-araya \"Github profile\") | <small>Estudiante de Informática Empresarial - UCR</small>\n",
    "* [Ian Ondoy Quirós]() | <small>Estudiante de Informática Empresarial - UCR</small>\n"
   ],
   "cell_type": "markdown",
   "metadata": {}
  },
  {
   "cell_type": "code",
   "execution_count": 1,
   "metadata": {},
   "outputs": [
    {
     "output_type": "stream",
     "name": "stdout",
     "text": [
      "Taller Introductorio a Python.\n"
     ]
    }
   ],
   "source": [
    "print('Taller Introductorio a Python.')"
   ]
  },
  {
   "source": [
    "📌 Día 1:\n",
    "\n",
    "---"
   ],
   "cell_type": "markdown",
   "metadata": {}
  },
  {
   "source": [
    "📌 Día 2:\n",
    "\n",
    "---"
   ],
   "cell_type": "markdown",
   "metadata": {}
  },
  {
   "source": [
    "📌 Día 3:\n",
    "\n",
    "---"
   ],
   "cell_type": "markdown",
   "metadata": {}
  }
 ]
}